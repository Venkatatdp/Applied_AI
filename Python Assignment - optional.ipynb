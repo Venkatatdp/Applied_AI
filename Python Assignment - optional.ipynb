{
 "cells": [
  {
   "cell_type": "markdown",
   "id": "c4281a0a",
   "metadata": {},
   "source": [
    "### 1.function that takes input and prints its multiplication table\n"
   ]
  },
  {
   "cell_type": "code",
   "execution_count": 1,
   "id": "f11a3c36",
   "metadata": {},
   "outputs": [
    {
     "name": "stdout",
     "output_type": "stream",
     "text": [
      "27*1 = 27\n",
      "27*2 = 54\n",
      "27*3 = 81\n",
      "27*4 = 108\n",
      "27*5 = 135\n",
      "27*6 = 162\n",
      "27*7 = 189\n",
      "27*8 = 216\n",
      "27*9 = 243\n",
      "27*10 = 270\n"
     ]
    }
   ],
   "source": [
    "def table(n):\n",
    "    ''' This function takes a number and gets its product table multiplication from 1 to 10'''\n",
    "    for i in range(1,11):\n",
    "        print(f'{n}*{i} = {n*i}')\n",
    "table(27)\n"
   ]
  },
  {
   "cell_type": "markdown",
   "id": "18db5d4d",
   "metadata": {},
   "source": [
    "### 2. Program that prints twin primes less than 1000"
   ]
  },
  {
   "cell_type": "code",
   "execution_count": 3,
   "id": "be3f3729",
   "metadata": {},
   "outputs": [
    {
     "name": "stdout",
     "output_type": "stream",
     "text": [
      "3 5\n",
      "5 7\n",
      "11 13\n",
      "17 19\n",
      "29 31\n",
      "41 43\n",
      "59 61\n",
      "71 73\n"
     ]
    }
   ],
   "source": [
    "\n",
    "\n",
    "\n",
    "def prime(n):\n",
    "    ''' This function returns True if number is prime'''\n",
    "    is_divisible = False\n",
    "    for i  in range(2,n):\n",
    "        if n%i == 0:\n",
    "            is_divisible = True\n",
    "    return True if not is_divisible else False\n",
    "\n",
    "# print(prime(12))\n",
    "\n",
    "def twinprimes(a,b):\n",
    "    for i in range(a,b):\n",
    "        j = i + 2\n",
    "        if prime(i) and prime(j):\n",
    "            print(i,j)\n",
    "            \n",
    "twinprimes(2,100)\n",
    "            "
   ]
  },
  {
   "cell_type": "markdown",
   "id": "a5aade8a",
   "metadata": {},
   "source": [
    "### 3. program to find prime factors of given number"
   ]
  },
  {
   "cell_type": "code",
   "execution_count": 6,
   "id": "e91ca91f",
   "metadata": {},
   "outputs": [
    {
     "name": "stdout",
     "output_type": "stream",
     "text": [
      "2\n",
      "2\n",
      "2\n",
      "7\n",
      "2\n",
      "2\n",
      "3\n"
     ]
    }
   ],
   "source": [
    "def pf(n):\n",
    "    ''' This function prints the prime factors of given number'''\n",
    "    while n%2 == 0:\n",
    "        print(2)\n",
    "        n=n/2\n",
    "    else:\n",
    "        n = int(n)\n",
    "        for i in range(3,n+1):\n",
    "            if n%i == 0 and prime(i):\n",
    "                print(i)\n",
    "pf(56)\n",
    "pf(108)"
   ]
  },
  {
   "cell_type": "markdown",
   "id": "43c92a5f",
   "metadata": {},
   "source": [
    "### 4. Permutations and Combinations"
   ]
  },
  {
   "cell_type": "code",
   "execution_count": 10,
   "id": "d7ed4c3a",
   "metadata": {},
   "outputs": [
    {
     "name": "stdout",
     "output_type": "stream",
     "text": [
      "120\n",
      "45.0\n"
     ]
    }
   ],
   "source": [
    "def p(n,r):\n",
    "    '''Permutation'''\n",
    "    \n",
    "    p = 1\n",
    "    for i in range(1,r):\n",
    "        p *= (n-i)\n",
    "    return n*p\n",
    "print(p(5,4))\n",
    "\n",
    "def c(n,r):\n",
    "    ''' Combination  '''\n",
    "    b = r\n",
    "    for i in range(1,r):\n",
    "        b *=r-i\n",
    "    a = p(n,r)   \n",
    "    print(a/b)\n",
    "c(10,2)"
   ]
  },
  {
   "cell_type": "markdown",
   "id": "9933959c",
   "metadata": {},
   "source": [
    "### 5. Decimal to Binary"
   ]
  },
  {
   "cell_type": "code",
   "execution_count": 14,
   "id": "03a06034",
   "metadata": {},
   "outputs": [
    {
     "name": "stdout",
     "output_type": "stream",
     "text": [
      "10010\n"
     ]
    }
   ],
   "source": [
    "def dtob(n):\n",
    "    ''' This function takes decimal and converts it into binary'''\n",
    "    n =float(n)\n",
    "    l = []\n",
    "    q,r = divmod(n,2)\n",
    "    l.insert(0,r)\n",
    "    while q!= 0:\n",
    "        q,r = divmod(q,2)\n",
    "        l.insert(0,r)\n",
    "    l =[int(i) for i in l]\n",
    "    return ''.join([str(i) for i in l])\n",
    "\n",
    "print(dtob(18))\n",
    "    \n",
    "    "
   ]
  },
  {
   "cell_type": "markdown",
   "id": "1ed3c640",
   "metadata": {},
   "source": [
    "### 6.Cubesum"
   ]
  },
  {
   "cell_type": "code",
   "execution_count": 12,
   "id": "182ee430",
   "metadata": {},
   "outputs": [
    {
     "name": "stdout",
     "output_type": "stream",
     "text": [
      "1634\n",
      "1634 is armstrong number\n"
     ]
    },
    {
     "data": {
      "text/plain": [
       "False"
      ]
     },
     "execution_count": 12,
     "metadata": {},
     "output_type": "execute_result"
    }
   ],
   "source": [
    "def cubesum(n):\n",
    "    n = str(n)\n",
    "    if len(n) == 1:\n",
    "        a = int(n)\n",
    "        return a**3\n",
    "    else:\n",
    "        sum = 0\n",
    "        for i in list(n):\n",
    "            b = (int(i))**len(n)\n",
    "            sum += b\n",
    "        return sum\n",
    "print(cubesum(1634))\n",
    "\n",
    "def printArmstrong(n):\n",
    "    if cubesum(n) == n:\n",
    "        print(f'{n} is armstrong number')\n",
    "    else:\n",
    "        print(f'{n} is not armstrong number')\n",
    "printArmstrong(1634)\n",
    "\n",
    "def isArmstrong(n):\n",
    "    if cubesum(n) == n:\n",
    "        return True\n",
    "    return False\n",
    "isArmstrong(100)"
   ]
  },
  {
   "cell_type": "markdown",
   "id": "a5dddf84",
   "metadata": {},
   "source": [
    "### 7. Product Digits\n"
   ]
  },
  {
   "cell_type": "code",
   "execution_count": 17,
   "id": "456cdd4b",
   "metadata": {},
   "outputs": [
    {
     "name": "stdout",
     "output_type": "stream",
     "text": [
      "32\n"
     ]
    }
   ],
   "source": [
    "def prodDigits(n):\n",
    "    ''' This program takes a number and returns the\n",
    "    product of that number'''\n",
    "    n = str(n)\n",
    "    p = 1\n",
    "    for i in list(n):\n",
    "        p *=int(i)\n",
    "    return str(p)\n",
    "\n",
    "print(prodDigits(48))"
   ]
  },
  {
   "cell_type": "markdown",
   "id": "dae819de",
   "metadata": {},
   "source": [
    "### 8. MDR and Mpersistance"
   ]
  },
  {
   "cell_type": "code",
   "execution_count": 29,
   "id": "7555fa08",
   "metadata": {},
   "outputs": [
    {
     "name": "stdout",
     "output_type": "stream",
     "text": [
      "6\n"
     ]
    }
   ],
   "source": [
    "def MDR(n):\n",
    "    a =prodDigits(n)\n",
    "    while len(a)!= 1:\n",
    "        a = prodDigits( a)\n",
    "    return prodDigits(a)\n",
    "\n",
    "print(MDR(86))"
   ]
  },
  {
   "cell_type": "code",
   "execution_count": 32,
   "id": "a2f66eb9",
   "metadata": {},
   "outputs": [
    {
     "name": "stdout",
     "output_type": "stream",
     "text": [
      "2\n"
     ]
    }
   ],
   "source": [
    "def Mpersistance(n):\n",
    "    count= 1\n",
    "    a =prodDigits(n)\n",
    "    while len(a)!= 1:\n",
    "        a = prodDigits( a)\n",
    "        count += 1\n",
    "    return count\n",
    "print(Mpersistance(341))\n",
    "    "
   ]
  },
  {
   "cell_type": "markdown",
   "id": "7ed668b6",
   "metadata": {},
   "source": [
    "### 9. DivisorsSum"
   ]
  },
  {
   "cell_type": "code",
   "execution_count": 36,
   "id": "61364161",
   "metadata": {},
   "outputs": [
    {
     "name": "stdout",
     "output_type": "stream",
     "text": [
      "8\n"
     ]
    }
   ],
   "source": [
    "def divPSum(n):\n",
    "    ''' This function take a number and gets all the proper divisors sum '''\n",
    "    \n",
    "    return  sum([i for i in range(1,n) if n%i == 0])\n",
    "\n",
    "print(divPSum(10))\n",
    "    \n",
    "        "
   ]
  },
  {
   "cell_type": "markdown",
   "id": "72ab08fd",
   "metadata": {},
   "source": [
    "### 10. Perfect Number"
   ]
  },
  {
   "cell_type": "code",
   "execution_count": 52,
   "id": "a8ddae7f",
   "metadata": {},
   "outputs": [
    {
     "name": "stdout",
     "output_type": "stream",
     "text": [
      "6\n",
      "28\n"
     ]
    }
   ],
   "source": [
    "def pfnum(n):\n",
    "    \n",
    "    for i in range(1,n+1):\n",
    "        sum = divPSum(i)\n",
    "        if sum == i:\n",
    "            print(i)\n",
    "pfnum(50)\n",
    "    "
   ]
  },
  {
   "cell_type": "markdown",
   "id": "b156f6c2",
   "metadata": {},
   "source": [
    "### 11. Amicable Numbers"
   ]
  },
  {
   "cell_type": "code",
   "execution_count": 14,
   "id": "4864bbad",
   "metadata": {},
   "outputs": [
    {
     "name": "stdout",
     "output_type": "stream",
     "text": [
      "True\n",
      "1210 1184\n",
      "None\n"
     ]
    }
   ],
   "source": [
    "def ami(x,y):\n",
    "    sum_x = sum([i for i in range(1,x) if x%i == 0])\n",
    "    sum_y = sum([i for i in range(1,y) if y%i == 0])\n",
    "    is_amicable = False\n",
    "    if sum_x == y and sum_y == x:\n",
    "        is_amicable = True\n",
    "    return is_amicable\n",
    "print(ami(2620,2924))\n",
    "\n",
    "def amipair(a,b):\n",
    "    \n",
    "    for i in range(a,b):\n",
    "        for j in range(a,i):\n",
    "            if ami(i,j) and i!=j:\n",
    "                print(i,j)\n",
    "\n",
    "print(amipair(1000,1500))\n",
    "        "
   ]
  },
  {
   "cell_type": "markdown",
   "id": "a7c0b281",
   "metadata": {},
   "source": [
    "### 12. Filter"
   ]
  },
  {
   "cell_type": "code",
   "execution_count": 54,
   "id": "85e1ba39",
   "metadata": {},
   "outputs": [
    {
     "name": "stdout",
     "output_type": "stream",
     "text": [
      "[5, 7]\n"
     ]
    }
   ],
   "source": [
    "def filter_(l):\n",
    "    return list(filter(lambda x:x%2 != 0,l))\n",
    "print(filter_([2,4,5,7,8]))"
   ]
  },
  {
   "cell_type": "markdown",
   "id": "9fc29113",
   "metadata": {},
   "source": [
    "### 13. Map"
   ]
  },
  {
   "cell_type": "code",
   "execution_count": 57,
   "id": "aefdd01d",
   "metadata": {},
   "outputs": [
    {
     "name": "stdout",
     "output_type": "stream",
     "text": [
      "[8, 64, 125, 216]\n"
     ]
    }
   ],
   "source": [
    "def map_(li):\n",
    "    return [i**3 for i in li]\n",
    "# or\n",
    "def map__(li):\n",
    "    return list(map(lambda x:x**3,li))\n",
    "\n",
    "print(map_([2,4,5,6]))"
   ]
  },
  {
   "cell_type": "markdown",
   "id": "7b804b5b",
   "metadata": {},
   "source": [
    "### 14. Map and Filter"
   ]
  },
  {
   "cell_type": "code",
   "execution_count": 58,
   "id": "a6276fd0",
   "metadata": {},
   "outputs": [
    {
     "name": "stdout",
     "output_type": "stream",
     "text": [
      "[8, 64, 216]\n",
      "[8, 64, 216]\n"
     ]
    }
   ],
   "source": [
    "def mf(li):\n",
    "    \n",
    "    return [i**3 for i in li if i%2 == 0]\n",
    "# or\n",
    "\n",
    "def mf_(li):\n",
    "    \n",
    "    return list(filter(lambda x:x%2 == 0,map(lambda x:x**3,li)))\n",
    "    \n",
    "print(mf([1,2,3,4,5,6]))\n",
    "print(mf_([1,2,3,4,5,6]))"
   ]
  },
  {
   "cell_type": "code",
   "execution_count": null,
   "id": "8098bbfa",
   "metadata": {},
   "outputs": [],
   "source": []
  }
 ],
 "metadata": {
  "kernelspec": {
   "display_name": "Python 3 (ipykernel)",
   "language": "python",
   "name": "python3"
  },
  "language_info": {
   "codemirror_mode": {
    "name": "ipython",
    "version": 3
   },
   "file_extension": ".py",
   "mimetype": "text/x-python",
   "name": "python",
   "nbconvert_exporter": "python",
   "pygments_lexer": "ipython3",
   "version": "3.9.6"
  }
 },
 "nbformat": 4,
 "nbformat_minor": 5
}
